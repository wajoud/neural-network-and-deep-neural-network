{
 "cells": [
  {
   "cell_type": "code",
   "execution_count": 1,
   "metadata": {},
   "outputs": [],
   "source": [
    "import pandas as pd\n",
    "import matplotlib.pyplot as plt\n",
    "import numpy as np"
   ]
  },
  {
   "cell_type": "code",
   "execution_count": 2,
   "metadata": {},
   "outputs": [],
   "source": [
    "dataset = pd.read_csv('Bank.csv')\n",
    "x = dataset.iloc[:,3:13].values # independend varible\n",
    "y = dataset.iloc[:,13].values #  depend varible"
   ]
  },
  {
   "cell_type": "code",
   "execution_count": 29,
   "metadata": {},
   "outputs": [
    {
     "name": "stdout",
     "output_type": "stream",
     "text": [
      "<class 'pandas.core.frame.DataFrame'>\n",
      "RangeIndex: 10000 entries, 0 to 9999\n",
      "Data columns (total 14 columns):\n",
      "RowNumber          10000 non-null int64\n",
      "CustomerId         10000 non-null int64\n",
      "Surname            10000 non-null object\n",
      "CreditScore        10000 non-null int64\n",
      "Geography          10000 non-null object\n",
      "Gender             10000 non-null object\n",
      "Age                10000 non-null int64\n",
      "Tenure             10000 non-null int64\n",
      "Balance            10000 non-null float64\n",
      "NumOfProducts      10000 non-null int64\n",
      "HasCrCard          10000 non-null int64\n",
      "IsActiveMember     10000 non-null int64\n",
      "EstimatedSalary    10000 non-null float64\n",
      "Exited             10000 non-null int64\n",
      "dtypes: float64(2), int64(9), object(3)\n",
      "memory usage: 1.1+ MB\n"
     ]
    }
   ],
   "source": [
    "dataset.info()"
   ]
  },
  {
   "cell_type": "code",
   "execution_count": 3,
   "metadata": {},
   "outputs": [
    {
     "data": {
      "text/plain": [
       "array([[619, 'France', 'Female', ..., 1, 1, 101348.88],\n",
       "       [608, 'Spain', 'Female', ..., 0, 1, 112542.58],\n",
       "       [502, 'France', 'Female', ..., 1, 0, 113931.57],\n",
       "       ...,\n",
       "       [709, 'France', 'Female', ..., 0, 1, 42085.58],\n",
       "       [772, 'Germany', 'Male', ..., 1, 0, 92888.52],\n",
       "       [792, 'France', 'Female', ..., 1, 0, 38190.78]], dtype=object)"
      ]
     },
     "execution_count": 3,
     "metadata": {},
     "output_type": "execute_result"
    }
   ],
   "source": [
    "x"
   ]
  },
  {
   "cell_type": "code",
   "execution_count": 4,
   "metadata": {},
   "outputs": [
    {
     "data": {
      "text/plain": [
       "array([1, 0, 1, ..., 1, 1, 0])"
      ]
     },
     "execution_count": 4,
     "metadata": {},
     "output_type": "execute_result"
    }
   ],
   "source": [
    "y"
   ]
  },
  {
   "cell_type": "code",
   "execution_count": 5,
   "metadata": {},
   "outputs": [],
   "source": [
    "# encoding categorial data\n",
    "from sklearn.preprocessing import LabelEncoder ,OneHotEncoder \n"
   ]
  },
  {
   "cell_type": "code",
   "execution_count": 6,
   "metadata": {},
   "outputs": [
    {
     "data": {
      "text/plain": [
       "array([[619, 0, 'Female', ..., 1, 1, 101348.88],\n",
       "       [608, 2, 'Female', ..., 0, 1, 112542.58],\n",
       "       [502, 0, 'Female', ..., 1, 0, 113931.57],\n",
       "       ...,\n",
       "       [709, 0, 'Female', ..., 0, 1, 42085.58],\n",
       "       [772, 1, 'Male', ..., 1, 0, 92888.52],\n",
       "       [792, 0, 'Female', ..., 1, 0, 38190.78]], dtype=object)"
      ]
     },
     "execution_count": 6,
     "metadata": {},
     "output_type": "execute_result"
    }
   ],
   "source": [
    "labelencoder_x_1 = LabelEncoder()\n",
    "x[:,1] = labelencoder_x_1.fit_transform(x[:,1])\n",
    "x"
   ]
  },
  {
   "cell_type": "code",
   "execution_count": 7,
   "metadata": {},
   "outputs": [
    {
     "data": {
      "text/plain": [
       "array([[619, 0, 0, ..., 1, 1, 101348.88],\n",
       "       [608, 2, 0, ..., 0, 1, 112542.58],\n",
       "       [502, 0, 0, ..., 1, 0, 113931.57],\n",
       "       ...,\n",
       "       [709, 0, 0, ..., 0, 1, 42085.58],\n",
       "       [772, 1, 1, ..., 1, 0, 92888.52],\n",
       "       [792, 0, 0, ..., 1, 0, 38190.78]], dtype=object)"
      ]
     },
     "execution_count": 7,
     "metadata": {},
     "output_type": "execute_result"
    }
   ],
   "source": [
    "labelencoder_x_2 = LabelEncoder()\n",
    "x[:,2] = labelencoder_x_2.fit_transform(x[:,2])\n",
    "x"
   ]
  },
  {
   "cell_type": "code",
   "execution_count": 8,
   "metadata": {},
   "outputs": [
    {
     "name": "stderr",
     "output_type": "stream",
     "text": [
      "/home/wajoud/anaconda3/lib/python3.7/site-packages/sklearn/preprocessing/_encoders.py:415: FutureWarning: The handling of integer data will change in version 0.22. Currently, the categories are determined based on the range [0, max(values)], while in the future they will be determined based on the unique values.\n",
      "If you want the future behaviour and silence this warning, you can specify \"categories='auto'\".\n",
      "In case you used a LabelEncoder before this OneHotEncoder to convert the categories to integers, then you can now use the OneHotEncoder directly.\n",
      "  warnings.warn(msg, FutureWarning)\n",
      "/home/wajoud/anaconda3/lib/python3.7/site-packages/sklearn/preprocessing/_encoders.py:451: DeprecationWarning: The 'categorical_features' keyword is deprecated in version 0.20 and will be removed in 0.22. You can use the ColumnTransformer instead.\n",
      "  \"use the ColumnTransformer instead.\", DeprecationWarning)\n"
     ]
    },
    {
     "data": {
      "text/plain": [
       "array([[1.0000000e+00, 0.0000000e+00, 0.0000000e+00, ..., 1.0000000e+00,\n",
       "        1.0000000e+00, 1.0134888e+05],\n",
       "       [0.0000000e+00, 0.0000000e+00, 1.0000000e+00, ..., 0.0000000e+00,\n",
       "        1.0000000e+00, 1.1254258e+05],\n",
       "       [1.0000000e+00, 0.0000000e+00, 0.0000000e+00, ..., 1.0000000e+00,\n",
       "        0.0000000e+00, 1.1393157e+05],\n",
       "       ...,\n",
       "       [1.0000000e+00, 0.0000000e+00, 0.0000000e+00, ..., 0.0000000e+00,\n",
       "        1.0000000e+00, 4.2085580e+04],\n",
       "       [0.0000000e+00, 1.0000000e+00, 0.0000000e+00, ..., 1.0000000e+00,\n",
       "        0.0000000e+00, 9.2888520e+04],\n",
       "       [1.0000000e+00, 0.0000000e+00, 0.0000000e+00, ..., 1.0000000e+00,\n",
       "        0.0000000e+00, 3.8190780e+04]])"
      ]
     },
     "execution_count": 8,
     "metadata": {},
     "output_type": "execute_result"
    }
   ],
   "source": [
    "onehotencoder = OneHotEncoder(categorical_features =[1])\n",
    "x = onehotencoder.fit_transform(x).toarray()\n",
    "x"
   ]
  },
  {
   "cell_type": "code",
   "execution_count": 9,
   "metadata": {},
   "outputs": [
    {
     "data": {
      "text/plain": [
       "array([[0.0000000e+00, 0.0000000e+00, 6.1900000e+02, ..., 1.0000000e+00,\n",
       "        1.0000000e+00, 1.0134888e+05],\n",
       "       [0.0000000e+00, 1.0000000e+00, 6.0800000e+02, ..., 0.0000000e+00,\n",
       "        1.0000000e+00, 1.1254258e+05],\n",
       "       [0.0000000e+00, 0.0000000e+00, 5.0200000e+02, ..., 1.0000000e+00,\n",
       "        0.0000000e+00, 1.1393157e+05],\n",
       "       ...,\n",
       "       [0.0000000e+00, 0.0000000e+00, 7.0900000e+02, ..., 0.0000000e+00,\n",
       "        1.0000000e+00, 4.2085580e+04],\n",
       "       [1.0000000e+00, 0.0000000e+00, 7.7200000e+02, ..., 1.0000000e+00,\n",
       "        0.0000000e+00, 9.2888520e+04],\n",
       "       [0.0000000e+00, 0.0000000e+00, 7.9200000e+02, ..., 1.0000000e+00,\n",
       "        0.0000000e+00, 3.8190780e+04]])"
      ]
     },
     "execution_count": 9,
     "metadata": {},
     "output_type": "execute_result"
    }
   ],
   "source": [
    "x = x[:,1:]\n",
    "x"
   ]
  },
  {
   "cell_type": "code",
   "execution_count": 10,
   "metadata": {},
   "outputs": [],
   "source": [
    "# spliting \n",
    "from sklearn.model_selection import train_test_split\n",
    "x_train,x_test,y_train,y_test = train_test_split(x,y,test_size=0.2,random_state=0)\n"
   ]
  },
  {
   "cell_type": "code",
   "execution_count": 11,
   "metadata": {},
   "outputs": [],
   "source": [
    "from sklearn.preprocessing import StandardScaler\n",
    "sc = StandardScaler()\n",
    "x_train = sc.fit_transform(x_train)\n",
    "x_test = sc.fit_transform(x_test)"
   ]
  },
  {
   "cell_type": "code",
   "execution_count": 12,
   "metadata": {},
   "outputs": [
    {
     "name": "stderr",
     "output_type": "stream",
     "text": [
      "Using TensorFlow backend.\n"
     ]
    }
   ],
   "source": [
    "import keras\n",
    "from keras.models import Sequential\n",
    "from keras.layers import Dense # for layers and its connection"
   ]
  },
  {
   "cell_type": "code",
   "execution_count": 13,
   "metadata": {},
   "outputs": [],
   "source": [
    "# inita ANN\n",
    "classifier = Sequential()"
   ]
  },
  {
   "cell_type": "code",
   "execution_count": 14,
   "metadata": {},
   "outputs": [
    {
     "name": "stderr",
     "output_type": "stream",
     "text": [
      "/home/wajoud/anaconda3/lib/python3.7/site-packages/ipykernel_launcher.py:2: UserWarning: Update your `Dense` call to the Keras 2 API: `Dense(activation=\"relu\", input_dim=11, units=6, kernel_initializer=\"uniform\")`\n",
      "  \n"
     ]
    }
   ],
   "source": [
    "# adding the imput and first hidden layer \n",
    "classifier.add(Dense(output_dim = 6 ,init ='uniform' , activation ='relu' , input_dim = 11))\n",
    "#output_dim = op dimension of hidden layer \n",
    "# init =init the weights and bies (unifrom it select randon values)\n",
    "# activation = recitifr linear unit(relu)"
   ]
  },
  {
   "cell_type": "code",
   "execution_count": 15,
   "metadata": {},
   "outputs": [
    {
     "name": "stderr",
     "output_type": "stream",
     "text": [
      "/home/wajoud/anaconda3/lib/python3.7/site-packages/ipykernel_launcher.py:2: UserWarning: Update your `Dense` call to the Keras 2 API: `Dense(activation=\"relu\", units=6, kernel_initializer=\"uniform\")`\n",
      "  \n"
     ]
    }
   ],
   "source": [
    "# add one more hidden layer \n",
    "classifier.add(Dense(output_dim = 6 ,init ='uniform' , activation ='relu'))"
   ]
  },
  {
   "cell_type": "code",
   "execution_count": 16,
   "metadata": {},
   "outputs": [
    {
     "name": "stderr",
     "output_type": "stream",
     "text": [
      "/home/wajoud/anaconda3/lib/python3.7/site-packages/ipykernel_launcher.py:2: UserWarning: Update your `Dense` call to the Keras 2 API: `Dense(activation=\"sigmoid\", units=1, kernel_initializer=\"uniform\")`\n",
      "  \n"
     ]
    }
   ],
   "source": [
    "# add op layer \n",
    "classifier.add(Dense(output_dim = 1 ,init ='uniform' , activation ='sigmoid'))"
   ]
  },
  {
   "cell_type": "code",
   "execution_count": 17,
   "metadata": {},
   "outputs": [],
   "source": [
    "# compiling the ANN\n",
    "classifier.compile(optimizer = 'adam',loss = 'binary_crossentropy',metrics =['accuracy'])"
   ]
  },
  {
   "cell_type": "code",
   "execution_count": 18,
   "metadata": {},
   "outputs": [
    {
     "name": "stderr",
     "output_type": "stream",
     "text": [
      "/home/wajoud/anaconda3/lib/python3.7/site-packages/ipykernel_launcher.py:2: UserWarning: The `nb_epoch` argument in `fit` has been renamed `epochs`.\n",
      "  \n"
     ]
    },
    {
     "name": "stdout",
     "output_type": "stream",
     "text": [
      "Epoch 1/100\n",
      "8000/8000 [==============================] - 5s 625us/step - loss: 0.5013 - accuracy: 0.7951\n",
      "Epoch 2/100\n",
      "8000/8000 [==============================] - 3s 419us/step - loss: 0.4300 - accuracy: 0.7960\n",
      "Epoch 3/100\n",
      "8000/8000 [==============================] - 3s 417us/step - loss: 0.4256 - accuracy: 0.7960\n",
      "Epoch 4/100\n",
      "8000/8000 [==============================] - 4s 442us/step - loss: 0.4216 - accuracy: 0.7976\n",
      "Epoch 5/100\n",
      "8000/8000 [==============================] - 4s 505us/step - loss: 0.4196 - accuracy: 0.8181\n",
      "Epoch 6/100\n",
      "8000/8000 [==============================] - 3s 387us/step - loss: 0.4173 - accuracy: 0.8220\n",
      "Epoch 7/100\n",
      "8000/8000 [==============================] - 3s 434us/step - loss: 0.4156 - accuracy: 0.8259\n",
      "Epoch 8/100\n",
      "8000/8000 [==============================] - 3s 362us/step - loss: 0.4141 - accuracy: 0.8301\n",
      "Epoch 9/100\n",
      "8000/8000 [==============================] - 3s 371us/step - loss: 0.4128 - accuracy: 0.8313\n",
      "Epoch 10/100\n",
      "8000/8000 [==============================] - 3s 380us/step - loss: 0.4113 - accuracy: 0.8316\n",
      "Epoch 11/100\n",
      "8000/8000 [==============================] - 3s 366us/step - loss: 0.4104 - accuracy: 0.8339\n",
      "Epoch 12/100\n",
      "8000/8000 [==============================] - 4s 448us/step - loss: 0.4093 - accuracy: 0.8338\n",
      "Epoch 13/100\n",
      "8000/8000 [==============================] - 4s 459us/step - loss: 0.4088 - accuracy: 0.8330\n",
      "Epoch 14/100\n",
      "8000/8000 [==============================] - 4s 443us/step - loss: 0.4079 - accuracy: 0.8340\n",
      "Epoch 15/100\n",
      "8000/8000 [==============================] - 4s 468us/step - loss: 0.4070 - accuracy: 0.8335\n",
      "Epoch 16/100\n",
      "8000/8000 [==============================] - 4s 453us/step - loss: 0.4066 - accuracy: 0.8347\n",
      "Epoch 17/100\n",
      "8000/8000 [==============================] - 5s 614us/step - loss: 0.4063 - accuracy: 0.8354\n",
      "Epoch 18/100\n",
      "8000/8000 [==============================] - 4s 468us/step - loss: 0.4058 - accuracy: 0.8341\n",
      "Epoch 19/100\n",
      "8000/8000 [==============================] - 3s 435us/step - loss: 0.4054 - accuracy: 0.8339\n",
      "Epoch 20/100\n",
      "8000/8000 [==============================] - 4s 464us/step - loss: 0.4049 - accuracy: 0.8357\n",
      "Epoch 21/100\n",
      "8000/8000 [==============================] - 4s 470us/step - loss: 0.4049 - accuracy: 0.8335\n",
      "Epoch 22/100\n",
      "8000/8000 [==============================] - 4s 452us/step - loss: 0.4045 - accuracy: 0.8349\n",
      "Epoch 23/100\n",
      "8000/8000 [==============================] - 4s 486us/step - loss: 0.4039 - accuracy: 0.8353\n",
      "Epoch 24/100\n",
      "8000/8000 [==============================] - 3s 436us/step - loss: 0.4040 - accuracy: 0.8351\n",
      "Epoch 25/100\n",
      "8000/8000 [==============================] - 4s 466us/step - loss: 0.4034 - accuracy: 0.8354\n",
      "Epoch 26/100\n",
      "8000/8000 [==============================] - 3s 433us/step - loss: 0.4035 - accuracy: 0.8349\n",
      "Epoch 27/100\n",
      "8000/8000 [==============================] - 4s 447us/step - loss: 0.4030 - accuracy: 0.8350\n",
      "Epoch 28/100\n",
      "8000/8000 [==============================] - 4s 502us/step - loss: 0.4030 - accuracy: 0.8347\n",
      "Epoch 29/100\n",
      "8000/8000 [==============================] - 5s 580us/step - loss: 0.4030 - accuracy: 0.8353\n",
      "Epoch 30/100\n",
      "8000/8000 [==============================] - 4s 527us/step - loss: 0.4025 - accuracy: 0.8346\n",
      "Epoch 31/100\n",
      "8000/8000 [==============================] - 4s 545us/step - loss: 0.4027 - accuracy: 0.8351\n",
      "Epoch 32/100\n",
      "8000/8000 [==============================] - 3s 385us/step - loss: 0.4023 - accuracy: 0.8345\n",
      "Epoch 33/100\n",
      "8000/8000 [==============================] - 3s 419us/step - loss: 0.4024 - accuracy: 0.8349\n",
      "Epoch 34/100\n",
      "8000/8000 [==============================] - 4s 480us/step - loss: 0.4021 - accuracy: 0.8354\n",
      "Epoch 35/100\n",
      "8000/8000 [==============================] - 3s 425us/step - loss: 0.4019 - accuracy: 0.8361\n",
      "Epoch 36/100\n",
      "8000/8000 [==============================] - 4s 450us/step - loss: 0.4015 - accuracy: 0.8347\n",
      "Epoch 37/100\n",
      "8000/8000 [==============================] - 3s 379us/step - loss: 0.4023 - accuracy: 0.8356\n",
      "Epoch 38/100\n",
      "8000/8000 [==============================] - 3s 431us/step - loss: 0.4019 - accuracy: 0.8353\n",
      "Epoch 39/100\n",
      "8000/8000 [==============================] - 3s 428us/step - loss: 0.4017 - accuracy: 0.8346\n",
      "Epoch 40/100\n",
      "8000/8000 [==============================] - 3s 411us/step - loss: 0.4016 - accuracy: 0.8331\n",
      "Epoch 41/100\n",
      "8000/8000 [==============================] - 3s 399us/step - loss: 0.4013 - accuracy: 0.8346\n",
      "Epoch 42/100\n",
      "8000/8000 [==============================] - 4s 442us/step - loss: 0.4015 - accuracy: 0.8354\n",
      "Epoch 43/100\n",
      "8000/8000 [==============================] - 4s 445us/step - loss: 0.4015 - accuracy: 0.8360\n",
      "Epoch 44/100\n",
      "8000/8000 [==============================] - 3s 402us/step - loss: 0.4011 - accuracy: 0.8354\n",
      "Epoch 45/100\n",
      "8000/8000 [==============================] - 3s 413us/step - loss: 0.4013 - accuracy: 0.8351\n",
      "Epoch 46/100\n",
      "8000/8000 [==============================] - 3s 365us/step - loss: 0.4010 - accuracy: 0.8346\n",
      "Epoch 47/100\n",
      "8000/8000 [==============================] - 4s 438us/step - loss: 0.4007 - accuracy: 0.8355\n",
      "Epoch 48/100\n",
      "8000/8000 [==============================] - 3s 397us/step - loss: 0.4009 - accuracy: 0.8357\n",
      "Epoch 49/100\n",
      "8000/8000 [==============================] - 4s 461us/step - loss: 0.4005 - accuracy: 0.8365\n",
      "Epoch 50/100\n",
      "8000/8000 [==============================] - 4s 461us/step - loss: 0.4001 - accuracy: 0.8356\n",
      "Epoch 51/100\n",
      "8000/8000 [==============================] - 3s 367us/step - loss: 0.4004 - accuracy: 0.8350\n",
      "Epoch 52/100\n",
      "8000/8000 [==============================] - 3s 366us/step - loss: 0.4002 - accuracy: 0.8340\n",
      "Epoch 53/100\n",
      "8000/8000 [==============================] - 3s 351us/step - loss: 0.4008 - accuracy: 0.8351\n",
      "Epoch 54/100\n",
      "8000/8000 [==============================] - 3s 392us/step - loss: 0.4004 - accuracy: 0.8349\n",
      "Epoch 55/100\n",
      "8000/8000 [==============================] - ETA: 0s - loss: 0.4011 - accuracy: 0.83 - 4s 501us/step - loss: 0.4009 - accuracy: 0.8357\n",
      "Epoch 56/100\n",
      "8000/8000 [==============================] - 4s 487us/step - loss: 0.4001 - accuracy: 0.8366\n",
      "Epoch 57/100\n",
      "8000/8000 [==============================] - 5s 667us/step - loss: 0.4002 - accuracy: 0.8342\n",
      "Epoch 58/100\n",
      "8000/8000 [==============================] - 6s 695us/step - loss: 0.4004 - accuracy: 0.8359\n",
      "Epoch 59/100\n",
      "8000/8000 [==============================] - 6s 719us/step - loss: 0.4002 - accuracy: 0.8355\n",
      "Epoch 60/100\n",
      "8000/8000 [==============================] - 5s 627us/step - loss: 0.4002 - accuracy: 0.8357\n",
      "Epoch 61/100\n",
      "8000/8000 [==============================] - 5s 590us/step - loss: 0.4002 - accuracy: 0.8349\n",
      "Epoch 62/100\n",
      "8000/8000 [==============================] - 4s 460us/step - loss: 0.3991 - accuracy: 0.8364\n",
      "Epoch 63/100\n",
      "8000/8000 [==============================] - 3s 401us/step - loss: 0.4002 - accuracy: 0.8359\n",
      "Epoch 64/100\n",
      "8000/8000 [==============================] - 5s 608us/step - loss: 0.4000 - accuracy: 0.8357\n",
      "Epoch 65/100\n",
      "8000/8000 [==============================] - 5s 641us/step - loss: 0.4001 - accuracy: 0.8356\n",
      "Epoch 66/100\n",
      "8000/8000 [==============================] - 5s 675us/step - loss: 0.4001 - accuracy: 0.8357\n",
      "Epoch 67/100\n",
      "8000/8000 [==============================] - 5s 683us/step - loss: 0.3997 - accuracy: 0.8339\n",
      "Epoch 68/100\n",
      "8000/8000 [==============================] - 5s 664us/step - loss: 0.4003 - accuracy: 0.8363\n",
      "Epoch 69/100\n",
      "8000/8000 [==============================] - 5s 669us/step - loss: 0.3999 - accuracy: 0.8367\n",
      "Epoch 70/100\n",
      "8000/8000 [==============================] - 6s 733us/step - loss: 0.3999 - accuracy: 0.8372\n",
      "Epoch 71/100\n",
      "8000/8000 [==============================] - 5s 658us/step - loss: 0.3999 - accuracy: 0.8354\n",
      "Epoch 72/100\n",
      "8000/8000 [==============================] - 8s 965us/step - loss: 0.3999 - accuracy: 0.8350\n",
      "Epoch 73/100\n",
      "8000/8000 [==============================] - 6s 746us/step - loss: 0.4000 - accuracy: 0.8364\n",
      "Epoch 74/100\n",
      "8000/8000 [==============================] - 7s 849us/step - loss: 0.3999 - accuracy: 0.83650s - loss: 0.3987 - ac\n",
      "Epoch 75/100\n",
      "8000/8000 [==============================] - 10s 1ms/step - loss: 0.3999 - accuracy: 0.8360\n",
      "Epoch 76/100\n",
      "8000/8000 [==============================] - 6s 810us/step - loss: 0.3998 - accuracy: 0.8351\n",
      "Epoch 77/100\n"
     ]
    },
    {
     "name": "stdout",
     "output_type": "stream",
     "text": [
      "8000/8000 [==============================] - 4s 513us/step - loss: 0.3998 - accuracy: 0.8355\n",
      "Epoch 78/100\n",
      "8000/8000 [==============================] - 4s 467us/step - loss: 0.4000 - accuracy: 0.8356\n",
      "Epoch 79/100\n",
      "8000/8000 [==============================] - 4s 451us/step - loss: 0.3994 - accuracy: 0.8351\n",
      "Epoch 80/100\n",
      "8000/8000 [==============================] - 3s 365us/step - loss: 0.3998 - accuracy: 0.8356\n",
      "Epoch 81/100\n",
      "8000/8000 [==============================] - 3s 408us/step - loss: 0.3996 - accuracy: 0.8371\n",
      "Epoch 82/100\n",
      "8000/8000 [==============================] - 3s 361us/step - loss: 0.4000 - accuracy: 0.8374\n",
      "Epoch 83/100\n",
      "8000/8000 [==============================] - 3s 347us/step - loss: 0.4000 - accuracy: 0.8359\n",
      "Epoch 84/100\n",
      "8000/8000 [==============================] - 3s 410us/step - loss: 0.3995 - accuracy: 0.8366\n",
      "Epoch 85/100\n",
      "8000/8000 [==============================] - 3s 396us/step - loss: 0.3995 - accuracy: 0.8361\n",
      "Epoch 86/100\n",
      "8000/8000 [==============================] - 3s 350us/step - loss: 0.3995 - accuracy: 0.8353\n",
      "Epoch 87/100\n",
      "8000/8000 [==============================] - 3s 429us/step - loss: 0.3992 - accuracy: 0.8360\n",
      "Epoch 88/100\n",
      "8000/8000 [==============================] - 3s 386us/step - loss: 0.3998 - accuracy: 0.8346\n",
      "Epoch 89/100\n",
      "8000/8000 [==============================] - 3s 373us/step - loss: 0.3996 - accuracy: 0.8367\n",
      "Epoch 90/100\n",
      "8000/8000 [==============================] - 4s 446us/step - loss: 0.3995 - accuracy: 0.8359\n",
      "Epoch 91/100\n",
      "8000/8000 [==============================] - 3s 387us/step - loss: 0.3996 - accuracy: 0.8339\n",
      "Epoch 92/100\n",
      "8000/8000 [==============================] - 3s 383us/step - loss: 0.3997 - accuracy: 0.8347\n",
      "Epoch 93/100\n",
      "8000/8000 [==============================] - 3s 392us/step - loss: 0.3996 - accuracy: 0.8376\n",
      "Epoch 94/100\n",
      "8000/8000 [==============================] - 3s 361us/step - loss: 0.3992 - accuracy: 0.8356\n",
      "Epoch 95/100\n",
      "8000/8000 [==============================] - 3s 389us/step - loss: 0.3999 - accuracy: 0.8353\n",
      "Epoch 96/100\n",
      "8000/8000 [==============================] - 3s 351us/step - loss: 0.3996 - accuracy: 0.8351\n",
      "Epoch 97/100\n",
      "8000/8000 [==============================] - 3s 421us/step - loss: 0.3995 - accuracy: 0.8363\n",
      "Epoch 98/100\n",
      "8000/8000 [==============================] - 3s 382us/step - loss: 0.3996 - accuracy: 0.8350\n",
      "Epoch 99/100\n",
      "8000/8000 [==============================] - 4s 461us/step - loss: 0.3995 - accuracy: 0.8367\n",
      "Epoch 100/100\n",
      "8000/8000 [==============================] - 4s 491us/step - loss: 0.3995 - accuracy: 0.8360\n"
     ]
    },
    {
     "data": {
      "text/plain": [
       "<keras.callbacks.callbacks.History at 0x7f795c5abfd0>"
      ]
     },
     "execution_count": 18,
     "metadata": {},
     "output_type": "execute_result"
    }
   ],
   "source": [
    "# fitting the Ann to the traning set\n",
    "classifier.fit(x_train,y_train,batch_size = 10 ,nb_epoch = 100)"
   ]
  },
  {
   "cell_type": "code",
   "execution_count": 19,
   "metadata": {},
   "outputs": [],
   "source": [
    "# predicting the test set result \n",
    "y_pred = classifier.predict(x_test)\n",
    "y_pred = (y_pred > 0.5)"
   ]
  },
  {
   "cell_type": "code",
   "execution_count": 20,
   "metadata": {},
   "outputs": [
    {
     "data": {
      "text/plain": [
       "array([[1544,   51],\n",
       "       [ 262,  143]])"
      ]
     },
     "execution_count": 20,
     "metadata": {},
     "output_type": "execute_result"
    }
   ],
   "source": [
    "# making the confusion matrix\n",
    "from sklearn.metrics import confusion_matrix\n",
    "cm = confusion_matrix(y_test,y_pred)\n",
    "cm"
   ]
  },
  {
   "cell_type": "code",
   "execution_count": 24,
   "metadata": {},
   "outputs": [
    {
     "data": {
      "text/plain": [
       "0.841"
      ]
     },
     "execution_count": 24,
     "metadata": {},
     "output_type": "execute_result"
    }
   ],
   "source": [
    "# to check the accuracy \n",
    "(1539+143)/2000"
   ]
  },
  {
   "cell_type": "code",
   "execution_count": 28,
   "metadata": {},
   "outputs": [
    {
     "name": "stdout",
     "output_type": "stream",
     "text": [
      "84.35000000000001 %\n"
     ]
    }
   ],
   "source": [
    "from sklearn.metrics import accuracy_score\n",
    "print(accuracy_score(y_test,y_pred)*100,'%')"
   ]
  },
  {
   "cell_type": "code",
   "execution_count": null,
   "metadata": {},
   "outputs": [],
   "source": []
  }
 ],
 "metadata": {
  "kernelspec": {
   "display_name": "Python 3",
   "language": "python",
   "name": "python3"
  },
  "language_info": {
   "codemirror_mode": {
    "name": "ipython",
    "version": 3
   },
   "file_extension": ".py",
   "mimetype": "text/x-python",
   "name": "python",
   "nbconvert_exporter": "python",
   "pygments_lexer": "ipython3",
   "version": "3.7.3"
  }
 },
 "nbformat": 4,
 "nbformat_minor": 2
}
