{
 "cells": [
  {
   "cell_type": "code",
   "execution_count": 21,
   "metadata": {},
   "outputs": [],
   "source": [
    "# and perceptron make a predictation \n",
    "def activation(row ,weights):\n",
    "    yin =weights[0]\n",
    "    for i in range(len(row)-1):\n",
    "        yin += weights[i+1] * row[i]\n",
    "    return 1.0 if yin > 2.0 else 0.0"
   ]
  },
  {
   "cell_type": "code",
   "execution_count": 22,
   "metadata": {},
   "outputs": [],
   "source": [
    "dataset = [[0,0,0],\n",
    "          [0,1,0],\n",
    "          [1,0,0],\n",
    "          [1,1,1]]\n",
    "#weights = [0.1 ,0.1 ,0.1]\n",
    "weights = [1,1,1]"
   ]
  },
  {
   "cell_type": "code",
   "execution_count": 23,
   "metadata": {},
   "outputs": [],
   "source": [
    "# test predictions \n",
    "dataset = [[0,0,0],\n",
    "          [0,1,1],\n",
    "          [1,0,1],\n",
    "          [1,1,1]]\n",
    "#weights = [0.1 ,0.1 ,0.1]\n",
    "weights = [1,1,1]"
   ]
  },
  {
   "cell_type": "code",
   "execution_count": 24,
   "metadata": {},
   "outputs": [
    {
     "name": "stdout",
     "output_type": "stream",
     "text": [
      "Expected=0 ,predicted=0\n",
      "Expected=1 ,predicted=0\n",
      "Expected=1 ,predicted=0\n",
      "Expected=1 ,predicted=1\n"
     ]
    }
   ],
   "source": [
    "for row in dataset:\n",
    "    prediction = activation(row ,weights)\n",
    "    print(\"Expected=%d ,predicted=%d\" % (row[-1],prediction))"
   ]
  },
  {
   "cell_type": "code",
   "execution_count": null,
   "metadata": {},
   "outputs": [],
   "source": []
  }
 ],
 "metadata": {
  "kernelspec": {
   "display_name": "Python 3",
   "language": "python",
   "name": "python3"
  },
  "language_info": {
   "codemirror_mode": {
    "name": "ipython",
    "version": 3
   },
   "file_extension": ".py",
   "mimetype": "text/x-python",
   "name": "python",
   "nbconvert_exporter": "python",
   "pygments_lexer": "ipython3",
   "version": "3.7.3"
  }
 },
 "nbformat": 4,
 "nbformat_minor": 2
}
